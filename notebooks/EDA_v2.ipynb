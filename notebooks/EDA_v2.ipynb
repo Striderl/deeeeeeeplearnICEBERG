{
 "cells": [
  {
   "cell_type": "code",
   "execution_count": 1,
   "metadata": {
    "collapsed": true
   },
   "outputs": [],
   "source": [
    "import os\n",
    "import numpy as np\n",
    "import pandas as pd\n",
    "from skimage.util.montage import montage2d\n",
    "from sklearn.model_selection import train_test_split\n",
    "import matplotlib.pyplot as plt\n",
    "from mxnet import nd\n",
    "from mxnet import image\n",
    "from mxnet import autograd\n",
    "base_path = os.path.join('data')"
   ]
  },
  {
   "cell_type": "markdown",
   "metadata": {},
   "source": [
    "### Data Initialization"
   ]
  },
  {
   "cell_type": "code",
   "execution_count": 2,
   "metadata": {
    "collapsed": false
   },
   "outputs": [
    {
     "name": "stdout",
     "output_type": "stream",
     "text": [
      "done!\n"
     ]
    }
   ],
   "source": [
    "#Load data\n",
    "train = pd.read_json(\"../data/train.json\")\n",
    "test = pd.read_json(\"../data/test.json\")\n",
    "train.inc_angle = train.inc_angle.replace('na', 0)\n",
    "train.inc_angle = train.inc_angle.astype(float).fillna(0.0)\n",
    "print(\"done!\")"
   ]
  },
  {
   "cell_type": "code",
   "execution_count": 3,
   "metadata": {
    "collapsed": true
   },
   "outputs": [],
   "source": [
    "# Train data\n",
    "x_band1 = np.array([np.array(band).astype(np.float32).reshape(75, 75) for band in train[\"band_1\"]])\n",
    "x_band2 = np.array([np.array(band).astype(np.float32).reshape(75, 75) for band in train[\"band_2\"]])\n",
    "X_train = np.concatenate([x_band1[:, :, :, np.newaxis]\n",
    "                          ,x_band2[:, :, :, np.newaxis]\n",
    "                         ,((x_band1+x_band2)/2)[:, :, :, np.newaxis]], axis=-1)\n",
    "X_angle_train = np.array(train.inc_angle)\n",
    "y_train = np.array(train[\"is_iceberg\"])\n",
    "\n",
    "# Test data\n",
    "x_band1 = np.array([np.array(band).astype(np.float32).reshape(75, 75) for band in test[\"band_1\"]])\n",
    "x_band2 = np.array([np.array(band).astype(np.float32).reshape(75, 75) for band in test[\"band_2\"]])\n",
    "X_test = np.concatenate([x_band1[:, :, :, np.newaxis]\n",
    "                          , x_band2[:, :, :, np.newaxis]\n",
    "                         , ((x_band1+x_band2)/2)[:, :, :, np.newaxis]], axis=-1)\n",
    "X_angle_test = np.array(test.inc_angle)"
   ]
  },
  {
   "cell_type": "code",
   "execution_count": 301,
   "metadata": {
    "collapsed": false
   },
   "outputs": [
    {
     "data": {
      "text/plain": [
       "(75, 75)"
      ]
     },
     "execution_count": 301,
     "metadata": {},
     "output_type": "execute_result"
    }
   ],
   "source": [
    "x_band1[0].shape"
   ]
  },
  {
   "cell_type": "code",
   "execution_count": 303,
   "metadata": {
    "collapsed": false
   },
   "outputs": [
    {
     "data": {
      "text/plain": [
       "(73, 73)"
      ]
     },
     "execution_count": 303,
     "metadata": {},
     "output_type": "execute_result"
    }
   ],
   "source": [
    "xder = np.array([[-1,0,1],[-2,0,2],[-1,0,1]])\n",
    "temp = signal.convolve2d(x_band1[0],xder,mode='valid')\n",
    "temp.shape"
   ]
  },
  {
   "cell_type": "markdown",
   "metadata": {},
   "source": [
    "### Augmentation"
   ]
  },
  {
   "cell_type": "markdown",
   "metadata": {},
   "source": [
    "##### Need to do: Augmentors should be functionalized, in order to keep X, y the same size"
   ]
  },
  {
   "cell_type": "code",
   "execution_count": 7,
   "metadata": {
    "collapsed": false
   },
   "outputs": [],
   "source": [
    "mean = nd.array([-20.655821,-26.320704,-23.488279])\n",
    "std = nd.array([5.200841,3.3955173,3.8151529])\n",
    "normalizer = image.ColorNormalizeAug(mean, std)\n",
    "flip = image.HorizontalFlipAug(1)"
   ]
  },
  {
   "cell_type": "code",
   "execution_count": 8,
   "metadata": {
    "collapsed": false,
    "scrolled": true
   },
   "outputs": [],
   "source": [
    "X_train_new = [normalizer(nd.array(X_train[i])) for i in range(1604)]    #normalize\n",
    "X_train_new.extend([flip(X_train_new[i]) for i in range(1604)])     #flip\n",
    "y_train_new = np.append(y_train, y_train)  # y_train\n",
    "X_test_new = [normalizer(nd.array(X_test[i])) for i in range(8424)] #X_test"
   ]
  },
  {
   "cell_type": "code",
   "execution_count": 9,
   "metadata": {
    "collapsed": false
   },
   "outputs": [],
   "source": [
    "#resize: \n",
    "X_train_new = [nd.transpose(X_train_new[i],(2,0,1)) for i in range(len(X_train_new))]\n",
    "X_test_new = [nd.transpose(X_test_new[i],(2,0,1)) for i in range(len(X_test_new))]"
   ]
  },
  {
   "cell_type": "markdown",
   "metadata": {},
   "source": [
    "### Try GPU"
   ]
  },
  {
   "cell_type": "code",
   "execution_count": 10,
   "metadata": {
    "collapsed": false
   },
   "outputs": [
    {
     "data": {
      "text/plain": [
       "cpu(0)"
      ]
     },
     "execution_count": 10,
     "metadata": {},
     "output_type": "execute_result"
    }
   ],
   "source": [
    "import mxnet as mx\n",
    "try:\n",
    "    ctx = mx.gpu()\n",
    "    _ = nd.zeros((1,), ctx=ctx)\n",
    "except:\n",
    "    ctx = mx.cpu()\n",
    "ctx"
   ]
  },
  {
   "cell_type": "markdown",
   "metadata": {},
   "source": [
    "### Model: ResNet 18 \n",
    "with dropout at each block p = 0.2"
   ]
  },
  {
   "cell_type": "code",
   "execution_count": 11,
   "metadata": {
    "collapsed": true
   },
   "outputs": [],
   "source": [
    "from mxnet.gluon import nn\n",
    "from mxnet import init\n",
    "\n",
    "\n",
    "class Residual(nn.HybridBlock):\n",
    "    def __init__(self, channels, same_shape=True, **kwargs):\n",
    "        super(Residual, self).__init__(**kwargs)\n",
    "        self.same_shape = same_shape\n",
    "        with self.name_scope():\n",
    "            strides = 1 if same_shape else 2\n",
    "            self.conv1 = nn.Conv2D(channels, kernel_size=3, padding=1, strides=strides)\n",
    "            self.bn1 = nn.BatchNorm()\n",
    "            self.conv2 = nn.Conv2D(channels, kernel_size=3, padding=1)\n",
    "            self.bn2 = nn.BatchNorm()\n",
    "            if not same_shape:\n",
    "                self.conv3 = nn.Conv2D(channels, kernel_size=1, strides=strides)\n",
    "\n",
    "    def hybrid_forward(self, F, x):\n",
    "        out = F.relu(self.bn1(self.conv1(x)))\n",
    "        out = self.bn2(self.conv2(out))\n",
    "        if not self.same_shape:\n",
    "            x = self.conv3(x)\n",
    "        return F.relu(out + x)\n",
    "\n",
    "\n",
    "class ResNet(nn.HybridBlock):\n",
    "    def __init__(self, num_classes, verbose=False, **kwargs):\n",
    "        super(ResNet, self).__init__(**kwargs)\n",
    "        self.verbose = verbose\n",
    "        with self.name_scope():\n",
    "            net = self.net = nn.HybridSequential()\n",
    "            # block 1\n",
    "            net.add(nn.Conv2D(channels=32, kernel_size=3, strides=1, padding=1))\n",
    "            net.add(nn.BatchNorm())\n",
    "            net.add(nn.Activation(activation='relu'))\n",
    "            # block 2\n",
    "            for _ in range(3):\n",
    "                net.add(Residual(channels=32))\n",
    "            # block 3\n",
    "            net.add(Residual(channels=64, same_shape=False))\n",
    "            for _ in range(2):\n",
    "                net.add(Residual(channels=64))\n",
    "            # block 4\n",
    "            net.add(Residual(channels=128, same_shape=False))\n",
    "            for _ in range(2):\n",
    "                net.add(Residual(channels=128))\n",
    "            # block 5\n",
    "            net.add(nn.AvgPool2D(pool_size=8))\n",
    "            net.add(nn.Flatten())\n",
    "            net.add(nn.Dense(num_classes, activation='sigmoid'))\n",
    "\n",
    "    def hybrid_forward(self, F, x):\n",
    "        out = x\n",
    "        for i, b in enumerate(self.net):\n",
    "            out = b(out)\n",
    "            if self.verbose:\n",
    "                print('Block %d output: %s'%(i+1, out.shape))\n",
    "        return out\n",
    "\n",
    "\n",
    "def get_net(ctx):\n",
    "    num_outputs = 2\n",
    "    net = ResNet(num_outputs)\n",
    "    net.initialize(ctx=ctx, init=init.Xavier())\n",
    "    return net"
   ]
  },
  {
   "cell_type": "code",
   "execution_count": 12,
   "metadata": {
    "collapsed": false
   },
   "outputs": [],
   "source": [
    "#train test split\n",
    "from sklearn.model_selection import train_test_split\n",
    "X_train, X_test, y_train, y_test = train_test_split(X_train_new, y_train_new, test_size=0.2, random_state=66)"
   ]
  },
  {
   "cell_type": "code",
   "execution_count": 88,
   "metadata": {
    "collapsed": false,
    "scrolled": true
   },
   "outputs": [
    {
     "name": "stderr",
     "output_type": "stream",
     "text": [
      "/Users/hanfeimao/anaconda/lib/python3.6/site-packages/sklearn/model_selection/_split.py:2010: FutureWarning: From version 0.21, test_size will always complement train_size unless both are specified.\n",
      "  FutureWarning)\n"
     ]
    }
   ],
   "source": [
    "# for next use of angle:\n",
    "X_train, X_valid, X_angle_train, X_angle_valid, y_train, y_valid = train_test_split(X_train_all\n",
    "                    ,X_angle_train, y_train, random_state=66, train_size=0.75)"
   ]
  },
  {
   "cell_type": "code",
   "execution_count": 13,
   "metadata": {
    "collapsed": false
   },
   "outputs": [],
   "source": [
    "train_ds = [(X_train[i],y_train[i]) for i in range(len(y_train))]\n",
    "valid_ds = [(X_test[i],y_test[i]) for i in range(len(y_test))]\n",
    "train_valid_ds = [(X_train_new[i], y_train_new[i]) for i in range(len(y_train_new))]\n",
    "test_ds = [(X_test_new[i], 0) for i in range(len(X_test_new))]"
   ]
  },
  {
   "cell_type": "code",
   "execution_count": 14,
   "metadata": {
    "collapsed": false
   },
   "outputs": [],
   "source": [
    "from mxnet import gluon\n",
    "batch_size = 128\n",
    "loader = gluon.data.DataLoader\n",
    "train_data = loader(train_ds, batch_size, shuffle=True, last_batch='keep')\n",
    "valid_data = loader(valid_ds, batch_size, shuffle=True, last_batch='keep')\n",
    "train_valid_data = loader(train_valid_ds, batch_size, shuffle=True, last_batch='keep')\n",
    "test_data = loader(test_ds, batch_size, shuffle = False, last_batch='keep')"
   ]
  },
  {
   "cell_type": "code",
   "execution_count": 15,
   "metadata": {
    "collapsed": true
   },
   "outputs": [],
   "source": [
    "import datetime\n",
    "import sys\n",
    "sys.path.append('..')\n",
    "\n",
    "def train(net, train_data, valid_data, num_epochs, lr, wd, ctx, lr_period, lr_decay):\n",
    "    trainer = gluon.Trainer(net.collect_params(), 'sgd', {'learning_rate': lr, 'momentum': 0.9, 'wd': wd})\n",
    "\n",
    "    prev_time = datetime.datetime.now()\n",
    "    for epoch in range(num_epochs):\n",
    "        train_loss = 0.0\n",
    "        train_acc = 0.0\n",
    "        if epoch > 0 and epoch % lr_period == 0:\n",
    "            trainer.set_learning_rate(trainer.learning_rate * lr_decay)\n",
    "        for data, label in train_data:\n",
    "            label = label.as_in_context(ctx)\n",
    "            with autograd.record():\n",
    "                output = net(data.as_in_context(ctx))\n",
    "                loss = softmax_cross_entropy(output, label)\n",
    "            loss.backward()\n",
    "            trainer.step(batch_size)\n",
    "            train_loss += nd.mean(loss).asscalar()\n",
    "            train_acc += accuracy(output, label)\n",
    "        cur_time = datetime.datetime.now()\n",
    "        h, remainder = divmod((cur_time - prev_time).seconds, 3600)\n",
    "        m, s = divmod(remainder, 60)\n",
    "        time_str = \"Time %02d:%02d:%02d\" % (h, m, s)\n",
    "        if valid_data is not None:\n",
    "            valid_acc = evaluate_accuracy(valid_data, net, ctx)\n",
    "            epoch_str = (\"Epoch %d. Loss: %f, Train acc %f, Valid acc %f, \"\n",
    "                         % (epoch, train_loss / len(train_data),\n",
    "                            train_acc / len(train_data), valid_acc))\n",
    "        else:\n",
    "            epoch_str = (\"Epoch %d. Loss: %f, Train acc %f, \"\n",
    "                         % (epoch, train_loss / len(train_data),\n",
    "                            train_acc / len(train_data)))\n",
    "        prev_time = cur_time\n",
    "        print(epoch_str + time_str + ', lr ' + str(trainer.learning_rate))"
   ]
  },
  {
   "cell_type": "code",
   "execution_count": 16,
   "metadata": {
    "collapsed": true
   },
   "outputs": [],
   "source": [
    "def accuracy(output, label):\n",
    "    return np.mean(output.asnumpy().argmax(axis=1)==label.asnumpy())\n",
    "\n",
    "def evaluate_accuracy(data_iterator, net, ctx=[mx.cpu()]):\n",
    "    if isinstance(ctx, mx.Context):\n",
    "        ctx = [ctx]\n",
    "    acc = nd.array([0])\n",
    "    n = 0.\n",
    "    if isinstance(data_iterator, mx.io.MXDataIter):\n",
    "        data_iterator.reset()\n",
    "    for batch in data_iterator:\n",
    "        data, label, batch_size = _get_batch(batch, ctx)\n",
    "        for X, y in zip(data, label):\n",
    "            acc += nd.array([np.sum(net(X).asnumpy().argmax(axis=1)==y.asnumpy())]).copyto(mx.cpu())\n",
    "        acc.wait_to_read() # don't push too many operators into backend\n",
    "        n += batch_size\n",
    "    return acc.asscalar() / n\n",
    "\n",
    "def _get_batch(batch, ctx):\n",
    "    \"\"\"return data and label on ctx\"\"\"\n",
    "    if isinstance(batch, mx.io.DataBatch):\n",
    "        data = batch.data[0]\n",
    "        label = batch.label[0]\n",
    "    else:\n",
    "        data, label = batch\n",
    "    return (gluon.utils.split_and_load(data, ctx),\n",
    "            gluon.utils.split_and_load(label, ctx),\n",
    "            data.shape[0])\n"
   ]
  },
  {
   "cell_type": "code",
   "execution_count": 17,
   "metadata": {
    "collapsed": true
   },
   "outputs": [],
   "source": [
    "softmax_cross_entropy = gluon.loss.SoftmaxCrossEntropyLoss()\n"
   ]
  },
  {
   "cell_type": "code",
   "execution_count": 20,
   "metadata": {
    "collapsed": false,
    "scrolled": false
   },
   "outputs": [
    {
     "name": "stdout",
     "output_type": "stream",
     "text": [
      "Epoch 0. Loss: 0.661872, Train acc 0.570685, Valid acc 0.471963, Time 00:06:31, lr 0.01\n",
      "Epoch 1. Loss: 0.592693, Train acc 0.707217, Valid acc 0.481308, Time 00:06:27, lr 0.01\n",
      "Epoch 2. Loss: 0.552780, Train acc 0.763393, Valid acc 0.752336, Time 00:06:35, lr 0.01\n",
      "Epoch 3. Loss: 0.505808, Train acc 0.814360, Valid acc 0.788162, Time 00:06:13, lr 0.01\n",
      "Epoch 4. Loss: 0.492407, Train acc 0.819568, Valid acc 0.791277, Time 00:06:13, lr 0.01\n",
      "Epoch 5. Loss: 0.489795, Train acc 0.827505, Valid acc 0.836449, Time 00:06:12, lr 0.01\n",
      "Epoch 6. Loss: 0.479426, Train acc 0.829737, Valid acc 0.825545, Time 00:06:11, lr 0.01\n",
      "Epoch 7. Loss: 0.453606, Train acc 0.868304, Valid acc 0.775701, Time 00:06:29, lr 0.01\n",
      "Epoch 8. Loss: 0.466400, Train acc 0.844990, Valid acc 0.632399, Time 00:06:44, lr 0.01\n",
      "Epoch 9. Loss: 0.446472, Train acc 0.861607, Valid acc 0.858255, Time 00:07:08, lr 0.01\n",
      "Epoch 10. Loss: 0.457428, Train acc 0.854291, Valid acc 0.671340, Time 00:06:12, lr 0.01\n",
      "Epoch 11. Loss: 0.439808, Train acc 0.867808, Valid acc 0.799065, Time 00:06:26, lr 0.01\n",
      "Epoch 12. Loss: 0.430945, Train acc 0.881572, Valid acc 0.811526, Time 00:06:40, lr 0.01\n",
      "Epoch 13. Loss: 0.422905, Train acc 0.889509, Valid acc 0.668224, Time 00:06:11, lr 0.01\n",
      "Epoch 14. Loss: 0.428756, Train acc 0.885665, Valid acc 0.884735, Time 00:14:43, lr 0.01\n",
      "Epoch 15. Loss: 0.427684, Train acc 0.886533, Valid acc 0.758567, Time 00:27:43, lr 0.001\n",
      "Epoch 16. Loss: 0.417862, Train acc 0.887773, Valid acc 0.803738, Time 00:06:42, lr 0.001\n",
      "Epoch 17. Loss: 0.412964, Train acc 0.903894, Valid acc 0.831776, Time 00:06:48, lr 0.001\n",
      "Epoch 18. Loss: 0.405532, Train acc 0.911458, Valid acc 0.795950, Time 00:06:59, lr 0.001\n",
      "Epoch 19. Loss: 0.406467, Train acc 0.909846, Valid acc 0.764798, Time 00:06:56, lr 0.001\n",
      "Epoch 20. Loss: 0.404270, Train acc 0.909970, Valid acc 0.817757, Time 00:07:17, lr 0.001\n",
      "Epoch 21. Loss: 0.406545, Train acc 0.907614, Valid acc 0.788162, Time 00:06:51, lr 0.001\n",
      "Epoch 22. Loss: 0.407323, Train acc 0.909846, Valid acc 0.813084, Time 00:06:43, lr 0.001\n",
      "Epoch 23. Loss: 0.403418, Train acc 0.918403, Valid acc 0.774143, Time 00:06:42, lr 0.001\n",
      "Epoch 24. Loss: 0.401860, Train acc 0.918899, Valid acc 0.797508, Time 00:06:20, lr 0.001\n"
     ]
    }
   ],
   "source": [
    "num_epochs = 25\n",
    "learning_rate = 0.01\n",
    "weight_decay = 1e-4\n",
    "lr_period = 15\n",
    "lr_decay = 0.1\n",
    "\n",
    "net = get_net(ctx)\n",
    "net.hybridize()\n",
    "train(net, train_data, valid_data, num_epochs, learning_rate, weight_decay, ctx, lr_period, lr_decay)"
   ]
  },
  {
   "cell_type": "code",
   "execution_count": 21,
   "metadata": {
    "collapsed": false
   },
   "outputs": [
    {
     "name": "stdout",
     "output_type": "stream",
     "text": [
      "Epoch 0. Loss: 0.618820, Train acc 0.653546, Time 00:07:30, lr 0.05\n",
      "Epoch 1. Loss: 0.500048, Train acc 0.808293, Time 00:07:41, lr 0.05\n",
      "Epoch 2. Loss: 0.468763, Train acc 0.841046, Time 00:07:23, lr 0.05\n",
      "Epoch 3. Loss: 0.468932, Train acc 0.837740, Time 00:08:00, lr 0.05\n",
      "Epoch 4. Loss: 0.455321, Train acc 0.851262, Time 00:08:41, lr 0.05\n",
      "Epoch 5. Loss: 0.434739, Train acc 0.876202, Time 00:08:07, lr 0.05\n",
      "Epoch 6. Loss: 0.445177, Train acc 0.863281, Time 00:07:56, lr 0.05\n",
      "Epoch 7. Loss: 0.422295, Train acc 0.885216, Time 00:07:59, lr 0.05\n",
      "Epoch 8. Loss: 0.416906, Train acc 0.894231, Time 00:07:51, lr 0.05\n",
      "Epoch 9. Loss: 0.422456, Train acc 0.885817, Time 00:08:21, lr 0.05\n",
      "Epoch 10. Loss: 0.444860, Train acc 0.862079, Time 00:08:12, lr 0.005000000000000001\n",
      "Epoch 11. Loss: 0.420743, Train acc 0.890625, Time 00:07:59, lr 0.005000000000000001\n",
      "Epoch 12. Loss: 0.403596, Train acc 0.908654, Time 00:07:54, lr 0.005000000000000001\n",
      "Epoch 13. Loss: 0.397120, Train acc 0.915565, Time 00:08:36, lr 0.005000000000000001\n",
      "Epoch 14. Loss: 0.396306, Train acc 0.916466, Time 00:09:51, lr 0.005000000000000001\n"
     ]
    }
   ],
   "source": [
    "num_epochs = 15\n",
    "learning_rate = 0.05\n",
    "weight_decay = 1e-4\n",
    "lr_period = 10\n",
    "lr_decay = 0.1\n",
    "\n",
    "net = get_net(ctx)\n",
    "net.hybridize()\n",
    "train(net, train_valid_data, None, num_epochs, learning_rate, weight_decay, ctx, lr_period, lr_decay)"
   ]
  },
  {
   "cell_type": "code",
   "execution_count": 22,
   "metadata": {
    "collapsed": false
   },
   "outputs": [],
   "source": [
    "preds = []\n",
    "for data, label in test_data:\n",
    "    output = net(data.as_in_context(ctx))\n",
    "    preds.extend(output[:,1].asnumpy())\n",
    "    \n",
    "df = pd.DataFrame({'id': test['id'], 'is_iceberg':preds})\n",
    "df['id'] =df['id'].astype(str)"
   ]
  },
  {
   "cell_type": "code",
   "execution_count": 261,
   "metadata": {
    "collapsed": false,
    "scrolled": true
   },
   "outputs": [
    {
     "data": {
      "text/plain": [
       "True"
      ]
     },
     "execution_count": 261,
     "metadata": {},
     "output_type": "execute_result"
    }
   ],
   "source": [
    "'06565646' in list(df['id'])"
   ]
  },
  {
   "cell_type": "code",
   "execution_count": 23,
   "metadata": {
    "collapsed": true
   },
   "outputs": [],
   "source": [
    "#possible leaky incident angle:\n",
    "leaky_angle = [34.4721, 42.5591, 33.6352, 36.1061, 39.2340]\n",
    "mask = [test['inc_angle'][i] in leaky_angle for i in range(len(test))]\n",
    "column_name = 'is_iceberg'\n",
    "df.loc[mask, column_name] = 1"
   ]
  },
  {
   "cell_type": "code",
   "execution_count": 24,
   "metadata": {
    "collapsed": false
   },
   "outputs": [],
   "source": [
    "df.to_csv('../submit/submission11070122.csv',index=False)"
   ]
  },
  {
   "cell_type": "code",
   "execution_count": null,
   "metadata": {
    "collapsed": true
   },
   "outputs": [],
   "source": []
  }
 ],
 "metadata": {
  "kernelspec": {
   "display_name": "Python 3",
   "language": "python",
   "name": "python3"
  },
  "language_info": {
   "codemirror_mode": {
    "name": "ipython",
    "version": 3
   },
   "file_extension": ".py",
   "mimetype": "text/x-python",
   "name": "python",
   "nbconvert_exporter": "python",
   "pygments_lexer": "ipython3",
   "version": "3.6.0"
  }
 },
 "nbformat": 4,
 "nbformat_minor": 0
}
