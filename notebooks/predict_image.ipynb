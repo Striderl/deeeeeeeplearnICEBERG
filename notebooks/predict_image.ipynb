{
 "cells": [
  {
   "cell_type": "markdown",
   "metadata": {},
   "source": [
    "# Predict with pre-trained models\n",
    "\n",
    "This tutorial explains how to recognize objects in an image with a\n",
    "pre-trained model, and how to perform feature extraction.\n",
    "\n",
    "## Prerequisites\n",
    "\n",
    "To complete this tutorial, we need:\n",
    "\n",
    "- MXNet. See the instructions for your operating system in [Setup and Installation](http://mxnet.io/get_started/install.html)\n",
    "\n",
    "- [Python Requests](http://docs.python-requests.org/en/master/), [Matplotlib](https://matplotlib.org/) and [Jupyter Notebook](http://jupyter.org/index.html).\n",
    "\n",
    "```\n",
    "$ pip install requests matplotlib jupyter opencv-python\n",
    "```\n",
    "\n",
    "## Loading\n",
    "\n",
    "We first download a pre-trained ResNet 152 layer that is trained on the full\n",
    "ImageNet dataset with over 10 million images and 10 thousand classes. A\n",
    "pre-trained model contains two parts, a json file containing the model\n",
    "definition and a binary file containing the parameters. In addition, there may be\n",
    "a text file for the labels."
   ]
  },
  {
   "cell_type": "code",
   "execution_count": null,
   "metadata": {
    "collapsed": true
   },
   "outputs": [],
   "source": [
    "import mxnet as mx\n",
    "path='http://data.mxnet.io/models/imagenet-11k/'\n",
    "[mx.test_utils.download(path+'resnet-152/resnet-152-symbol.json'),\n",
    " mx.test_utils.download(path+'resnet-152/resnet-152-0000.params'),\n",
    " mx.test_utils.download(path+'synset.txt')]"
   ]
  },
  {
   "cell_type": "markdown",
   "metadata": {},
   "source": [
    "Next, we load the downloaded model. *Note:* If GPU is available, we can replace all\n",
    "occurrences of `mx.cpu()` with `mx.gpu()` to accelerate the computation."
   ]
  },
  {
   "cell_type": "code",
   "execution_count": null,
   "metadata": {
    "collapsed": true
   },
   "outputs": [],
   "source": [
    "sym, arg_params, aux_params = mx.model.load_checkpoint('resnet-152', 0)\n",
    "mod = mx.mod.Module(symbol=sym, context=mx.cpu(), label_names=None)\n",
    "mod.bind(for_training=False, data_shapes=[('data', (1,3,224,224))], \n",
    "         label_shapes=mod._label_shapes)\n",
    "mod.set_params(arg_params, aux_params, allow_missing=True)\n",
    "with open('synset.txt', 'r') as f:\n",
    "    labels = [l.rstrip() for l in f]"
   ]
  },
  {
   "cell_type": "markdown",
   "metadata": {},
   "source": [
    "## Predicting\n",
    "\n",
    "We first define helper functions for downloading an image and performing the\n",
    "prediction:"
   ]
  },
  {
   "cell_type": "code",
   "execution_count": null,
   "metadata": {
    "collapsed": true
   },
   "outputs": [],
   "source": [
    "%matplotlib inline\n",
    "import matplotlib.pyplot as plt\n",
    "import cv2\n",
    "import numpy as np\n",
    "# define a simple data batch\n",
    "from collections import namedtuple\n",
    "Batch = namedtuple('Batch', ['data'])\n",
    "\n",
    "def get_image(url, show=False):\n",
    "    # download and show the image\n",
    "    fname = mx.test_utils.download(url)\n",
    "    img = cv2.cvtColor(cv2.imread(fname), cv2.COLOR_BGR2RGB)\n",
    "    if img is None:\n",
    "         return None\n",
    "    if show:\n",
    "         plt.imshow(img)\n",
    "         plt.axis('off')\n",
    "    # convert into format (batch, RGB, width, height)\n",
    "    img = cv2.resize(img, (224, 224))\n",
    "    img = np.swapaxes(img, 0, 2)\n",
    "    img = np.swapaxes(img, 1, 2)\n",
    "    img = img[np.newaxis, :]\n",
    "    return img\n",
    "\n",
    "def predict(url):\n",
    "    img = get_image(url, show=True)\n",
    "    # compute the predict probabilities\n",
    "    mod.forward(Batch([mx.nd.array(img)]))\n",
    "    prob = mod.get_outputs()[0].asnumpy()\n",
    "    # print the top-5\n",
    "    prob = np.squeeze(prob)\n",
    "    a = np.argsort(prob)[::-1]\n",
    "    for i in a[0:5]:\n",
    "        print('probability=%f, class=%s' %(prob[i], labels[i]))"
   ]
  },
  {
   "cell_type": "markdown",
   "metadata": {},
   "source": [
    "Now, we can perform prediction with any downloadable URL:"
   ]
  },
  {
   "cell_type": "code",
   "execution_count": null,
   "metadata": {
    "collapsed": true
   },
   "outputs": [],
   "source": [
    "predict('http://writm.com/wp-content/uploads/2016/08/Cat-hd-wallpapers.jpg')"
   ]
  },
  {
   "cell_type": "code",
   "execution_count": null,
   "metadata": {
    "collapsed": true
   },
   "outputs": [],
   "source": [
    "predict('http://thenotoriouspug.com/wp-content/uploads/2015/01/Pug-Cookie-1920x1080-1024x576.jpg')"
   ]
  },
  {
   "cell_type": "markdown",
   "metadata": {},
   "source": [
    "## Feature extraction\n",
    "\n",
    "By feature extraction, we mean presenting the input images by the output of an\n",
    "internal layer rather than the last softmax layer. These outputs, which can be\n",
    "viewed as the feature of the raw input image, can then be used by other\n",
    "applications such as object detection.\n",
    "\n",
    "We can use the ``get_internals`` method to get all internal layers from a\n",
    "Symbol."
   ]
  },
  {
   "cell_type": "code",
   "execution_count": null,
   "metadata": {
    "collapsed": true
   },
   "outputs": [],
   "source": [
    "# list the last 10 layers\n",
    "all_layers = sym.get_internals()\n",
    "all_layers.list_outputs()[-10:]"
   ]
  },
  {
   "cell_type": "markdown",
   "metadata": {},
   "source": [
    "An often used layer for feature extraction is the one before the last fully\n",
    "connected layer. For ResNet, and also Inception, it is the flattened layer with\n",
    "name `flatten0` which reshapes the 4-D convolutional layer output into 2-D for\n",
    "the fully connected layer. The following source code extracts a new Symbol which\n",
    "outputs the flattened layer and creates a model."
   ]
  },
  {
   "cell_type": "code",
   "execution_count": null,
   "metadata": {
    "collapsed": true
   },
   "outputs": [],
   "source": [
    "fe_sym = all_layers['flatten0_output']\n",
    "fe_mod = mx.mod.Module(symbol=fe_sym, context=mx.cpu(), label_names=None)\n",
    "fe_mod.bind(for_training=False, data_shapes=[('data', (1,3,224,224))])\n",
    "fe_mod.set_params(arg_params, aux_params)"
   ]
  },
  {
   "cell_type": "markdown",
   "metadata": {},
   "source": [
    "We can now invoke `forward` to obtain the features:"
   ]
  },
  {
   "cell_type": "code",
   "execution_count": null,
   "metadata": {
    "collapsed": true
   },
   "outputs": [],
   "source": [
    "img = get_image('http://writm.com/wp-content/uploads/2016/08/Cat-hd-wallpapers.jpg')\n",
    "fe_mod.forward(Batch([mx.nd.array(img)]))\n",
    "features = fe_mod.get_outputs()[0].asnumpy()\n",
    "print(features)\n",
    "assert features.shape == (1, 2048)"
   ]
  },
  {
   "cell_type": "markdown",
   "metadata": {},
   "source": [
    "\n",
    "<!-- INSERT SOURCE DOWNLOAD BUTTONS -->\n",
    "\n"
   ]
  }
 ],
 "metadata": {
  "display_name": "",
  "kernelspec": {
   "display_name": "Python 3",
   "language": "python",
   "name": "python3"
  },
  "language_info": {
   "codemirror_mode": {
    "name": "ipython",
    "version": 3
   },
   "file_extension": ".py",
   "mimetype": "text/x-python",
   "name": "python",
   "nbconvert_exporter": "python",
   "pygments_lexer": "ipython3",
   "version": "3.6.0"
  },
  "name": ""
 },
 "nbformat": 4,
 "nbformat_minor": 2
}
